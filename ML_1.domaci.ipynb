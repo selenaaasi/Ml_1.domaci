{
 "cells": [
  {
   "cell_type": "code",
   "execution_count": 34,
   "metadata": {},
   "outputs": [],
   "source": [
    "import numpy as np\n",
    "import matplotlib.pyplot as plt\n",
    "import pandas as pd\n",
    "import random\n",
    "import statistics\n",
    "from sklearn.model_selection import train_test_split\n",
    "from sklearn.feature_selection import SelectKBest\n",
    "from sklearn.feature_selection import chi2\n",
    "from sklearn.preprocessing import StandardScaler\n",
    "from sklearn.feature_selection import RFE\n",
    "from sklearn.linear_model import LogisticRegression\n",
    "from sklearn.decomposition import PCA\n",
    "from sklearn.ensemble import ExtraTreesClassifier\n",
    "import matplotlib.pyplot as plt\n",
    "from sklearn.model_selection import cross_val_score\n"
   ]
  },
  {
   "cell_type": "code",
   "execution_count": 35,
   "metadata": {},
   "outputs": [],
   "source": [
    "def split_test_train(X,y):\n",
    "    X_train, X_test, y_train, y_test = train_test_split(X, y, test_size=0.2)\n",
    "    return X_train,X_test,y_train,y_test"
   ]
  },
  {
   "cell_type": "code",
   "execution_count": 36,
   "metadata": {},
   "outputs": [],
   "source": [
    "def standard_scaler(X_train,X_test):\n",
    "    sc_X = StandardScaler()\n",
    "    X_train_scale = sc_X.fit_transform(X_train)\n",
    "    X_test_scale = sc_X.transform(X_test)\n",
    "    return X_train_scale,X_test_scale"
   ]
  },
  {
   "cell_type": "code",
   "execution_count": 37,
   "metadata": {},
   "outputs": [],
   "source": [
    "#Univariate Selection - 2,3,4,5\n",
    "def univariate_selection(X_train,y_train):\n",
    "    bestfeatures = SelectKBest(score_func=chi2, k=5)\n",
    "    fit = bestfeatures.fit(X_train, y_train)\n",
    "    dfscores = pd.DataFrame(fit.scores_)\n",
    "    dfcolumns = pd.DataFrame(X_train.columns)\n",
    "    # concat two dataframes for better visualization\n",
    "    featureScores = pd.concat([dfcolumns, dfscores], axis=1)\n",
    "    featureScores.columns = ['Specs', 'Score']  # naming the dataframe columns\n",
    "    print(featureScores.nlargest(4, 'Score'))"
   ]
  },
  {
   "cell_type": "code",
   "execution_count": 38,
   "metadata": {},
   "outputs": [],
   "source": [
    "#RFE-2,5,6,15\n",
    "def RFE_col(X_train,y_train):\n",
    "    classifier = LogisticRegression(random_state=0)\n",
    "    rfe = RFE(classifier, 4)\n",
    "    fit = rfe.fit(X_train, y_train)\n",
    "    print(\"Num Features: %d\" % fit.n_features_)\n",
    "    print(\"Selected Features: %s\" % fit.support_)\n",
    "    print(\"Feature Ranking: %s\" % fit.ranking_)\n",
    "    rfe_rank = fit.ranking_"
   ]
  },
  {
   "cell_type": "code",
   "execution_count": 39,
   "metadata": {},
   "outputs": [],
   "source": [
    "#PCA 4,11,9,17\n",
    "def PCA_col(X_train,y_train):\n",
    "    pca_example=PCA().fit(X_train)\n",
    "    print(\"Explained_variance_ratio\")\n",
    "    print(pca_example.explained_variance_ratio_)\n",
    "    pca = PCA(n_components=4).fit(X_train)\n",
    "    n_pcs = pca.components_.shape[0]\n",
    "    most_important = [np.abs(pca.components_[i]).argmax() for i in range(n_pcs)]\n",
    "    initial_feature_names = ['0', '1', '2', '3', '4', '5', '6', '7', '8', '9', '10', '11', '12', '13', '14', '15', '16',\n",
    "                             '17']\n",
    "    most_important_names = [initial_feature_names[most_important[i]] for i in range(n_pcs)]\n",
    "    # using LIST COMPREHENSION HERE AGAIN\n",
    "    dic = {'PC{}'.format(i + 1): most_important_names[i] for i in range(n_pcs)}\n",
    "    # build the dataframe\n",
    "    df = pd.DataFrame(sorted(dic.items()))\n",
    "    print(df)"
   ]
  },
  {
   "cell_type": "code",
   "execution_count": 40,
   "metadata": {},
   "outputs": [],
   "source": [
    "#Decision Tree-2,3,8,4\n",
    "def decision_tree(X_train,y_train):\n",
    "    model = ExtraTreesClassifier()\n",
    "    model.fit(X_train, y_train)\n",
    "    print(model.feature_importances_)  # use inbuilt class feature_importances of tree based classifiers\n",
    "    # plot graph of feature importances for better visualization\n",
    "    feat_importances = pd.Series(model.feature_importances_, index=X.columns)\n",
    "    feat_importances.nlargest(10).plot(kind='barh')\n",
    "    print(\"Feature importance\")\n",
    "    print(feat_importances)\n",
    "    plt.show()"
   ]
  },
  {
   "cell_type": "code",
   "execution_count": 41,
   "metadata": {},
   "outputs": [],
   "source": [
    "#Logistic regression\n",
    "def logistic_regression(X_train,y_train,X_test,y_test):\n",
    "    classifier = LogisticRegression(random_state=42)\n",
    "    classifier.fit(X_train, y_train)\n",
    "    score = cross_val_score(classifier, X_test, y_test, cv=10)\n",
    "    print(\"SCORE:\")\n",
    "    print(score)\n",
    "    print(\"Average score:\")\n",
    "    print(statistics.mean(score))\n",
    "\n",
    "    # Predicting the Test set results\n",
    "    y_pred = classifier.predict(X_test)\n",
    "\n",
    "    #plt.rcParams['font.size'] = 12\n",
    "    #plt.hist(score, bins=8)\n",
    "\n",
    "    # x-axis limit from 0 to 1\n",
    "    #plt.xlim(0, 1)\n",
    "    #plt.title('Histogram of predicted probabilities')\n",
    "    #plt.xlabel('Predicted probability of diabetes')\n",
    "    #plt.ylabel('Frequency')\n",
    "    #plt.show()\n",
    "\n",
    "    # Making the Confusion Matrix\n",
    "    from sklearn.metrics import confusion_matrix\n",
    "    cm = confusion_matrix(y_test, y_pred)\n",
    "    print(\"Confusion Matrix:\")\n",
    "    print(cm)\n"
   ]
  },
  {
   "cell_type": "code",
   "execution_count": 42,
   "metadata": {},
   "outputs": [],
   "source": [
    "#Process data\n",
    "def process_data(X,y):\n",
    "    X_train, X_test, y_train, y_test = split_test_train(X, y)\n",
    "    X_train_scale, X_test_scale = standard_scaler(X_train, X_test)\n",
    "    logistic_regression(X_train_scale, y_train, X_test_scale, y_test)"
   ]
  },
  {
   "cell_type": "code",
   "execution_count": 43,
   "metadata": {},
   "outputs": [],
   "source": [
    "if __name__ == \"__main__\":\n",
    "    dataset = pd.read_csv(\"csv_result-diabetic_dataset.csv\")\n",
    "\n",
    "    # all col\n",
    "    X = dataset.iloc[:, 1:19]\n",
    "    y = dataset.iloc[:, 20]\n",
    "    # random\n",
    "    array = random.sample(range(0, 17), 4)\n",
    "    X_random = dataset.iloc[:, [array[0], array[1], array[2],array[3]]]\n",
    "    y_random = dataset.iloc[:, 20]\n",
    "\n",
    "    # Univariate Selection\n",
    "    X_unvariate_selection = dataset.iloc[:, [2, 3, 4, 5]]\n",
    "    y_unvariate_selection = dataset.iloc[:, 20]\n",
    "\n",
    "    # RFE\n",
    "    X_rfe = dataset.iloc[:, [2,5, 6, 15]]\n",
    "    y_rfe = dataset.iloc[:, 20]\n",
    "\n",
    "    # PCA\n",
    "    X_PCA = dataset.iloc[:, [5,9,11, 17]]\n",
    "    y_PCA = dataset.iloc[:, 20]\n",
    "\n",
    "    # DecisionTree\n",
    "    X_dt = dataset.iloc[:, [2, 3, 4, 8]]\n",
    "    y_dt = dataset.iloc[:, 20]"
   ]
  },
  {
   "cell_type": "code",
   "execution_count": 44,
   "metadata": {},
   "outputs": [],
   "source": [
    "  X_train, X_test, y_train, y_test=split_test_train(X,y)"
   ]
  },
  {
   "cell_type": "code",
   "execution_count": 45,
   "metadata": {},
   "outputs": [
    {
     "name": "stdout",
     "output_type": "stream",
     "text": [
      "  Specs        Score\n",
      "2     2  1253.345935\n",
      "3     3   957.488480\n",
      "4     4   709.028122\n",
      "5     5   468.943310\n"
     ]
    }
   ],
   "source": [
    "    univariate_selection(X_train, y_train)"
   ]
  },
  {
   "cell_type": "code",
   "execution_count": 46,
   "metadata": {},
   "outputs": [],
   "source": [
    "\n",
    "    X_train_scale,X_test_scale=standard_scaler(X_train,X_test)"
   ]
  },
  {
   "cell_type": "code",
   "execution_count": 47,
   "metadata": {},
   "outputs": [
    {
     "name": "stdout",
     "output_type": "stream",
     "text": [
      "Num Features: 4\n",
      "Selected Features: [False False  True False  True  True False False False False False False\n",
      " False False  True False False False]\n",
      "Feature Ranking: [ 9 13  1  3  1  1  2  6  8  7 12 11 10  5  1  4 15 14]\n"
     ]
    }
   ],
   "source": [
    "\n",
    "    RFE_col(X_train_scale,y_train)\n"
   ]
  },
  {
   "cell_type": "code",
   "execution_count": 48,
   "metadata": {},
   "outputs": [
    {
     "name": "stdout",
     "output_type": "stream",
     "text": [
      "Explained_variance_ratio\n",
      "[3.35348706e-01 2.71163043e-01 1.13669334e-01 6.34021712e-02\n",
      " 5.67575413e-02 5.43766500e-02 4.41283785e-02 2.80075120e-02\n",
      " 1.35179628e-02 8.09099932e-03 5.67989663e-03 2.28959760e-03\n",
      " 1.25110638e-03 1.04579670e-03 8.43398083e-04 2.51960364e-04\n",
      " 1.18928838e-04 5.70175310e-05]\n",
      "     0   1\n",
      "0  PC1   5\n",
      "1  PC2  11\n",
      "2  PC3   9\n",
      "3  PC4  17\n"
     ]
    }
   ],
   "source": [
    "\n",
    "    PCA_col(X_train_scale,y_train)\n",
    " "
   ]
  },
  {
   "cell_type": "code",
   "execution_count": 49,
   "metadata": {},
   "outputs": [
    {
     "name": "stdout",
     "output_type": "stream",
     "text": [
      "[0.00233622 0.01259282 0.10088383 0.08106449 0.06494112 0.06330133\n",
      " 0.06328555 0.0661312  0.07345728 0.06391072 0.05898291 0.05573794\n",
      " 0.0492949  0.04536732 0.04578029 0.03852635 0.05632478 0.05808094]\n",
      "Feature importance\n",
      "0     0.002336\n",
      "1     0.012593\n",
      "2     0.100884\n",
      "3     0.081064\n",
      "4     0.064941\n",
      "5     0.063301\n",
      "6     0.063286\n",
      "7     0.066131\n",
      "8     0.073457\n",
      "9     0.063911\n",
      "10    0.058983\n",
      "11    0.055738\n",
      "12    0.049295\n",
      "13    0.045367\n",
      "14    0.045780\n",
      "15    0.038526\n",
      "16    0.056325\n",
      "17    0.058081\n",
      "dtype: float64\n"
     ]
    },
    {
     "data": {
      "image/png": "[encoded data removed]",
      "text/plain": [
       "<Figure size 432x288 with 1 Axes>"
      ]
     },
     "metadata": {
      "needs_background": "light"
     },
     "output_type": "display_data"
    }
   ],
   "source": [
    "\n",
    "    decision_tree(X_train_scale,y_train)\n"
   ]
  },
  {
   "cell_type": "code",
   "execution_count": 50,
   "metadata": {},
   "outputs": [
    {
     "name": "stdout",
     "output_type": "stream",
     "text": [
      "Sve kolone>>>>>>>>>\n",
      "SCORE:\n",
      "[0.75       0.7826087  0.69565217 0.69565217 0.82608696 0.7826087\n",
      " 0.65217391 0.69565217 0.7826087  0.73913043]\n",
      "Average score:\n",
      "0.7402173913043478\n",
      "Confusion Matrix:\n",
      "[[89 17]\n",
      " [36 89]]\n"
     ]
    }
   ],
   "source": [
    "print(\"Sve kolone>>>>>>>>>\")\n",
    "logistic_regression(X_train_scale,y_train,X_test_scale,y_test)\n",
    "  "
   ]
  },
  {
   "cell_type": "code",
   "execution_count": 51,
   "metadata": {},
   "outputs": [
    {
     "name": "stdout",
     "output_type": "stream",
     "text": [
      "Univariate Selection>>>>>>\n",
      "SCORE:\n",
      "[0.66666667 0.69565217 0.73913043 0.69565217 0.65217391 0.7826087\n",
      " 0.82608696 0.60869565 0.73913043 0.65217391]\n",
      "Average score:\n",
      "0.7057971014492753\n",
      "Confusion Matrix:\n",
      "[[93 24]\n",
      " [35 79]]\n"
     ]
    }
   ],
   "source": [
    "print(\"Univariate Selection>>>>>>\")\n",
    "process_data(X_unvariate_selection, y_unvariate_selection)\n",
    " "
   ]
  },
  {
   "cell_type": "code",
   "execution_count": 52,
   "metadata": {},
   "outputs": [
    {
     "name": "stdout",
     "output_type": "stream",
     "text": [
      "Nasumicno izabranih 5 kolona>>>>>>\n",
      "SCORE:\n",
      "[0.58333333 0.47826087 0.82608696 0.60869565 0.65217391 0.73913043\n",
      " 0.60869565 0.52173913 0.60869565 0.73913043]\n",
      "Average score:\n",
      "0.6365942028985507\n",
      "Confusion Matrix:\n",
      "[[71 22]\n",
      " [59 79]]\n"
     ]
    }
   ],
   "source": [
    "print(\"Nasumicno izabranih 5 kolona>>>>>>\")\n",
    "process_data(X_random,y_random)\n",
    "  "
   ]
  },
  {
   "cell_type": "code",
   "execution_count": 53,
   "metadata": {},
   "outputs": [
    {
     "name": "stdout",
     "output_type": "stream",
     "text": [
      "PCA>>>>>>\n",
      "SCORE:\n",
      "[0.625      0.69565217 0.65217391 0.60869565 0.56521739 0.69565217\n",
      " 0.69565217 0.60869565 0.73913043 0.39130435]\n",
      "Average score:\n",
      "0.6277173913043478\n",
      "Confusion Matrix:\n",
      "[[65 52]\n",
      " [36 78]]\n"
     ]
    }
   ],
   "source": [
    "print(\"PCA>>>>>>\")\n",
    "process_data(X_PCA,y_PCA)\n",
    " "
   ]
  },
  {
   "cell_type": "code",
   "execution_count": 54,
   "metadata": {},
   "outputs": [
    {
     "name": "stdout",
     "output_type": "stream",
     "text": [
      "RFE>>>>>>\n",
      "SCORE:\n",
      "[0.70833333 0.56521739 0.69565217 0.60869565 0.7826087  0.60869565\n",
      " 0.52173913 0.43478261 0.60869565 0.65217391]\n",
      "Average score:\n",
      "0.6186594202898551\n",
      "Confusion Matrix:\n",
      "[[75 27]\n",
      " [50 79]]\n"
     ]
    }
   ],
   "source": [
    "print(\"RFE>>>>>>\")\n",
    "process_data(X_rfe,y_rfe)"
   ]
  },
  {
   "cell_type": "code",
   "execution_count": 55,
   "metadata": {},
   "outputs": [
    {
     "name": "stdout",
     "output_type": "stream",
     "text": [
      "Decision tree>>>>>\n",
      "SCORE:\n",
      "[0.66666667 0.60869565 0.69565217 0.52173913 0.69565217 0.69565217\n",
      " 0.7826087  0.47826087 0.73913043 0.60869565]\n",
      "Average score:\n",
      "0.6492753623188405\n",
      "Confusion Matrix:\n",
      "[[83 32]\n",
      " [41 75]]\n"
     ]
    }
   ],
   "source": [
    "print(\"Decision tree>>>>>\")\n",
    "process_data(X_dt,y_dt)"
   ]
  }
 ],
 "metadata": {
  "anaconda-cloud": {},
  "kernelspec": {
   "display_name": "Python 3",
   "language": "python",
   "name": "python3"
  },
  "language_info": {
   "codemirror_mode": {
    "name": "ipython",
    "version": 3
   },
   "file_extension": ".py",
   "mimetype": "text/x-python",
   "name": "python",
   "nbconvert_exporter": "python",
   "pygments_lexer": "ipython3",
   "version": "3.7.2"
  }
 },
 "nbformat": 4,
 "nbformat_minor": 1
}
