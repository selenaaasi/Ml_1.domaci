{
 "cells": [
  {
   "cell_type": "code",
   "execution_count": 1,
   "metadata": {},
   "outputs": [],
   "source": [
    "import numpy as np\n",
    "import matplotlib.pyplot as plt\n",
    "import pandas as pd\n",
    "import random\n",
    "import statistics\n",
    "from sklearn.model_selection import train_test_split\n",
    "from sklearn.feature_selection import SelectKBest\n",
    "from sklearn.feature_selection import chi2\n",
    "from sklearn.preprocessing import StandardScaler\n",
    "from sklearn.feature_selection import RFE\n",
    "from sklearn.linear_model import LogisticRegression\n",
    "from sklearn.decomposition import PCA\n",
    "from sklearn.ensemble import ExtraTreesClassifier\n",
    "import matplotlib.pyplot as plt\n",
    "from sklearn.model_selection import cross_val_score\n",
    "\n",
    "\n",
    "\n"
   ]
  },
  {
   "cell_type": "code",
   "execution_count": 2,
   "metadata": {},
   "outputs": [],
   "source": [
    "def split_test_train(X,y):\n",
    "    X_train, X_test, y_train, y_test = train_test_split(X, y, test_size=0.2)\n",
    "    return X_train,X_test,y_train,y_test"
   ]
  },
  {
   "cell_type": "code",
   "execution_count": 3,
   "metadata": {},
   "outputs": [],
   "source": [
    "def standard_scaler(X_train,X_test):\n",
    "    sc_X = StandardScaler()\n",
    "    X_train_scale = sc_X.fit_transform(X_train)\n",
    "    X_test_scale = sc_X.transform(X_test)\n",
    "    return X_train_scale,X_test_scale\n"
   ]
  },
  {
   "cell_type": "code",
   "execution_count": 4,
   "metadata": {},
   "outputs": [],
   "source": [
    "def univariate_selection(X_train,y_train):\n",
    "    bestfeatures = SelectKBest(score_func=chi2, k=12)\n",
    "    fit = bestfeatures.fit(X_train, y_train)\n",
    "    dfscores = pd.DataFrame(fit.scores_)\n",
    "    dfcolumns = pd.DataFrame(X_train.columns)\n",
    "    # concat two dataframes for better visualization\n",
    "    featureScores = pd.concat([dfcolumns, dfscores], axis=1)\n",
    "    featureScores.columns = ['Specs', 'Score']  # naming the dataframe columns\n",
    "    newScore=featureScores.nlargest(12, 'Score')\n",
    "    print(featureScores.nlargest(12, 'Score'))\n",
    "    return newScore"
   ]
  },
  {
   "cell_type": "code",
   "execution_count": 5,
   "metadata": {},
   "outputs": [],
   "source": [
    "def RFE_col(X_train,y_train,n):\n",
    "    classifier = LogisticRegression(random_state=0)\n",
    "    rfe = RFE(classifier, n)\n",
    "    fit = rfe.fit(X_train, y_train)\n",
    "    print(\"Num Features: %d\" % fit.n_features_)\n",
    "    print(\"Selected Features: %s\" % fit.support_)\n",
    "    print(\"Feature Ranking: %s\" % fit.ranking_)\n",
    "    list=fit.support_\n",
    "    features=[]\n",
    "    for i,value in enumerate(list):\n",
    "        if value == True:\n",
    "            features.append(i)\n",
    "    rfe_rank = fit.ranking_\n",
    "    return features"
   ]
  },
  {
   "cell_type": "code",
   "execution_count": 6,
   "metadata": {},
   "outputs": [],
   "source": [
    "def PCA_col(X_train,y_train,n):\n",
    "    pca_example=PCA().fit(X_train)\n",
    "    print(\"Explained_variance_ratio\")\n",
    "    print(pca_example.explained_variance_ratio_)\n",
    "    pca = PCA(n_components=n).fit(X_train)\n",
    "    n_pcs = pca.components_.shape[0]\n",
    "    most_important = [np.abs(pca.components_[i]).argmax() for i in range(n_pcs)]\n",
    "    initial_feature_names = ['0', '1', '2', '3', '4', '5', '6', '7', '8', '9', '10', '11', '12', '13', '14', '15', '16',\n",
    "                             '17']\n",
    "    most_important_names = [initial_feature_names[most_important[i]] for i in range(n_pcs)]\n",
    "    # using LIST COMPREHENSION HERE AGAIN\n",
    "    dic = {'PC{}'.format(i + 1): most_important_names[i] for i in range(n_pcs)}\n",
    "    # build the dataframe\n",
    "    df = pd.DataFrame(sorted(dic.items()))\n",
    "    print(df)\n",
    "    return df"
   ]
  },
  {
   "cell_type": "code",
   "execution_count": 7,
   "metadata": {},
   "outputs": [],
   "source": [
    "def decision_tree(X_train,y_train):\n",
    "    model = ExtraTreesClassifier()\n",
    "    model.fit(X_train, y_train)\n",
    "    print(model.feature_importances_)  # use inbuilt class feature_importances of tree based classifiers\n",
    "    # plot graph of feature importances for better visualization\n",
    "    feat_importances = pd.Series(model.feature_importances_, index=X.columns)\n",
    "    feat_importances.nlargest(12).plot(kind='barh')\n",
    "    print(\"Feature importance\")\n",
    "    print(feat_importances)\n",
    "    plt.show()"
   ]
  },
  {
   "cell_type": "code",
   "execution_count": 8,
   "metadata": {},
   "outputs": [],
   "source": [
    "#Logistic regression\n",
    "def logistic_regression(X_train,y_train,X_test,y_test):\n",
    "    classifier = LogisticRegression(random_state=42)\n",
    "    classifier.fit(X_train, y_train)\n",
    "    score = cross_val_score(classifier, X_test, y_test, cv=10)\n",
    "    print(\"SCORE:\")\n",
    "    print(score)\n",
    "    print(\"Average score:\")\n",
    "    print(statistics.mean(score))\n",
    "\n",
    "    # Predicting the Test set results\n",
    "    y_pred = classifier.predict(X_test)\n",
    "\n",
    "    # Making the Confusion Matrix\n",
    "    from sklearn.metrics import confusion_matrix\n",
    "    cm = confusion_matrix(y_test, y_pred)\n",
    "    print(\"Confusion Matrix:\")\n",
    "    print(cm)"
   ]
  },
  {
   "cell_type": "code",
   "execution_count": 9,
   "metadata": {},
   "outputs": [],
   "source": [
    "#Process data\n",
    "def process_data(X,y):\n",
    "    X_train, X_test, y_train, y_test = split_test_train(X, y)\n",
    "    X_train_scale, X_test_scale = standard_scaler(X_train, X_test)\n",
    "    logistic_regression(X_train_scale, y_train, X_test_scale, y_test)\n"
   ]
  },
  {
   "cell_type": "code",
   "execution_count": 10,
   "metadata": {},
   "outputs": [],
   "source": [
    "if __name__ == \"__main__\":\n",
    "    dataset = pd.read_csv(\"csv_result-diabetic_dataset.csv\")\n",
    "\n",
    "    # all col\n",
    "    X = dataset.iloc[:, 1:19]\n",
    "    y = dataset.iloc[:, 20]\n",
    "\n",
    "    # random 4\n",
    "    array = random.sample(range(0, 17), 4)\n",
    "    X_random4 = dataset.iloc[:, [array[0], array[1], array[2], array[3]]]\n",
    "    y_random4 = dataset.iloc[:, 20]\n",
    "\n",
    "    # random 8\n",
    "\n",
    "    array = random.sample(range(0, 17), 8)\n",
    "    X_random8 = dataset.iloc[:, [array[0], array[1], array[2], array[3],array[4],array[5],array[6],array[7]]]\n",
    "    y_random8 = dataset.iloc[:, 20]\n",
    "\n",
    "    # random 12\n",
    "\n",
    "    array = random.sample(range(0, 17), 12)\n",
    "    X_random12 = dataset.iloc[:, [array[0], array[1], array[2], array[3],array[4],array[5],array[6],array[7],array[8],array[9],array[10],array[11]]]\n",
    "    y_random12 = dataset.iloc[:, 20]\n",
    "\n",
    "    "
   ]
  },
  {
   "cell_type": "code",
   "execution_count": 11,
   "metadata": {},
   "outputs": [],
   "source": [
    "X_train, X_test, y_train, y_test=split_test_train(X,y)"
   ]
  },
  {
   "cell_type": "code",
   "execution_count": 12,
   "metadata": {},
   "outputs": [
    {
     "name": "stdout",
     "output_type": "stream",
     "text": [
      "   Specs        Score\n",
      "2      2  1168.652004\n",
      "3      3   865.132954\n",
      "4      4   605.807421\n",
      "8      8   468.984167\n",
      "5      5   376.976821\n",
      "6      6   228.990474\n",
      "12    12   169.302234\n",
      "7      7   109.621927\n",
      "13    13    89.074663\n",
      "11    11    79.627238\n",
      "10    10    64.765217\n",
      "14    14    48.298925\n"
     ]
    }
   ],
   "source": [
    "score_us=univariate_selection(X_train, y_train)"
   ]
  },
  {
   "cell_type": "code",
   "execution_count": 47,
   "metadata": {},
   "outputs": [],
   "source": [
    "\n",
    "\n",
    "    # Univariate Selection\n",
    "    X_unvariate_selection_4 = dataset.iloc[:,[2,3,4,8] ]\n",
    "    y_unvariate_selection_4 = dataset.iloc[:, 20]\n",
    "\n",
    "    X_unvariate_selection_8 = dataset.iloc[:,[2,3,4,8,5,6,12,7]]\n",
    "    y_unvariate_selection_8 = dataset.iloc[:, 20]\n",
    "\n",
    "    X_unvariate_selection_12 = dataset.iloc[:,\n",
    "                              [2,3,4,8,5,6,12,7,13,11,10,14]]\n",
    "    y_unvariate_selection_12 = dataset.iloc[:, 20]"
   ]
  },
  {
   "cell_type": "code",
   "execution_count": 48,
   "metadata": {},
   "outputs": [],
   "source": [
    " X_train_scale,X_test_scale=standard_scaler(X_train,X_test)"
   ]
  },
  {
   "cell_type": "code",
   "execution_count": 49,
   "metadata": {},
   "outputs": [
    {
     "name": "stdout",
     "output_type": "stream",
     "text": [
      "Num Features: 4\n",
      "Selected Features: [False False  True False  True  True False False False False False False\n",
      " False False  True False False False]\n",
      "Feature Ranking: [14 12  1  3  1  1  2  6  9 10 11  8  7  4  1  5 15 13]\n"
     ]
    }
   ],
   "source": [
    "score_rfe_4=RFE_col(X_train_scale,y_train,4)"
   ]
  },
  {
   "cell_type": "code",
   "execution_count": 50,
   "metadata": {},
   "outputs": [
    {
     "name": "stdout",
     "output_type": "stream",
     "text": [
      "Num Features: 8\n",
      "Selected Features: [False False  True  True  True  True  True False False False False False\n",
      " False  True  True  True False False]\n",
      "Feature Ranking: [10  8  1  1  1  1  1  2  5  6  7  4  3  1  1  1 11  9]\n"
     ]
    }
   ],
   "source": [
    "score_rfe_8=RFE_col(X_train_scale, y_train, 8)"
   ]
  },
  {
   "cell_type": "code",
   "execution_count": 51,
   "metadata": {},
   "outputs": [
    {
     "name": "stdout",
     "output_type": "stream",
     "text": [
      "Num Features: 12\n",
      "Selected Features: [False False  True  True  True  True  True  True  True False False  True\n",
      "  True  True  True  True False False]\n",
      "Feature Ranking: [6 4 1 1 1 1 1 1 1 2 3 1 1 1 1 1 7 5]\n"
     ]
    }
   ],
   "source": [
    " score_rfe_12=RFE_col(X_train_scale, y_train, 12)   \n",
    "    "
   ]
  },
  {
   "cell_type": "code",
   "execution_count": 52,
   "metadata": {},
   "outputs": [],
   "source": [
    "    # RFE\n",
    "    X_rfe_4 = dataset.iloc[:,[2,4,5,14]]\n",
    "    y_rfe_4 = dataset.iloc[:, 20]\n",
    "\n",
    "    X_rfe_8 = dataset.iloc[:, [2,3,4,5,6,13,14,15]]\n",
    "    y_rfe_8 = dataset.iloc[:, 20]\n",
    "\n",
    "    X_rfe_12 = dataset.iloc[:,[2,3,4,5,6,7,8,11,12,13,14,15]]\n",
    "    y_rfe_12 = dataset.iloc[:, 20]"
   ]
  },
  {
   "cell_type": "code",
   "execution_count": 53,
   "metadata": {},
   "outputs": [
    {
     "name": "stdout",
     "output_type": "stream",
     "text": [
      "Explained_variance_ratio\n",
      "[3.33837712e-01 2.68263892e-01 1.12688820e-01 6.38504110e-02\n",
      " 5.73880210e-02 5.52166095e-02 4.33941000e-02 2.98601737e-02\n",
      " 1.39789091e-02 8.78413332e-03 6.06536718e-03 2.85995132e-03\n",
      " 1.38620998e-03 1.11792058e-03 8.63931839e-04 2.53024408e-04\n",
      " 1.28048709e-04 6.27651455e-05]\n",
      "     0   1\n",
      "0  PC1   5\n",
      "1  PC2  11\n",
      "2  PC3   9\n",
      "3  PC4  17\n"
     ]
    }
   ],
   "source": [
    " score_pca_4=PCA_col(X_train_scale,y_train,4)\n"
   ]
  },
  {
   "cell_type": "code",
   "execution_count": 54,
   "metadata": {},
   "outputs": [
    {
     "name": "stdout",
     "output_type": "stream",
     "text": [
      "Explained_variance_ratio\n",
      "[3.33837712e-01 2.68263892e-01 1.12688820e-01 6.38504110e-02\n",
      " 5.73880210e-02 5.52166095e-02 4.33941000e-02 2.98601737e-02\n",
      " 1.39789091e-02 8.78413332e-03 6.06536718e-03 2.85995132e-03\n",
      " 1.38620998e-03 1.11792058e-03 8.63931839e-04 2.53024408e-04\n",
      " 1.28048709e-04 6.27651455e-05]\n",
      "     0   1\n",
      "0  PC1   5\n",
      "1  PC2  11\n",
      "2  PC3   9\n",
      "3  PC4  17\n",
      "4  PC5   0\n",
      "5  PC6   1\n",
      "6  PC7  17\n",
      "7  PC8  15\n"
     ]
    }
   ],
   "source": [
    "score_pca_8=PCA_col(X_train_scale, y_train, 8)\n"
   ]
  },
  {
   "cell_type": "code",
   "execution_count": 55,
   "metadata": {},
   "outputs": [
    {
     "name": "stdout",
     "output_type": "stream",
     "text": [
      "Explained_variance_ratio\n",
      "[3.33837712e-01 2.68263892e-01 1.12688820e-01 6.38504110e-02\n",
      " 5.73880210e-02 5.52166095e-02 4.33941000e-02 2.98601737e-02\n",
      " 1.39789091e-02 8.78413332e-03 6.06536718e-03 2.85995132e-03\n",
      " 1.38620998e-03 1.11792058e-03 8.63931839e-04 2.53024408e-04\n",
      " 1.28048709e-04 6.27651455e-05]\n",
      "       0   1\n",
      "0    PC1   5\n",
      "1   PC10   7\n",
      "2   PC11   9\n",
      "3   PC12  13\n",
      "4    PC2  11\n",
      "5    PC3   9\n",
      "6    PC4  17\n",
      "7    PC5   0\n",
      "8    PC6   1\n",
      "9    PC7  17\n",
      "10   PC8  15\n",
      "11   PC9   8\n"
     ]
    }
   ],
   "source": [
    "score_pca_12=PCA_col(X_train_scale, y_train, 12)"
   ]
  },
  {
   "cell_type": "code",
   "execution_count": 56,
   "metadata": {},
   "outputs": [],
   "source": [
    "    # PCA\n",
    "    X_PCA_4 = dataset.iloc[:, [5,11,9,17]]\n",
    "    y_PCA_4 = dataset.iloc[:, 20]\n",
    "\n",
    "    X_PCA_8 = dataset.iloc[:, [5,11,9,17,0,1,17,15]]\n",
    "    y_PCA_8 = dataset.iloc[:, 20]\n",
    "\n",
    "    X_PCA_12 = dataset.iloc[:, [5,7,9,13,11,9,17,0,1,17,15,8]]\n",
    "    y_PCA_12 = dataset.iloc[:, 20]"
   ]
  },
  {
   "cell_type": "code",
   "execution_count": 27,
   "metadata": {},
   "outputs": [
    {
     "name": "stdout",
     "output_type": "stream",
     "text": [
      "[0.00024032 0.01518332 0.1040076  0.07350999 0.06371322 0.06356308\n",
      " 0.06688888 0.0681039  0.07783556 0.0610071  0.05563318 0.0550945\n",
      " 0.04733747 0.04080257 0.04935441 0.04095139 0.05703185 0.05974168]\n",
      "Feature importance\n",
      "0     0.000240\n",
      "1     0.015183\n",
      "2     0.104008\n",
      "3     0.073510\n",
      "4     0.063713\n",
      "5     0.063563\n",
      "6     0.066889\n",
      "7     0.068104\n",
      "8     0.077836\n",
      "9     0.061007\n",
      "10    0.055633\n",
      "11    0.055094\n",
      "12    0.047337\n",
      "13    0.040803\n",
      "14    0.049354\n",
      "15    0.040951\n",
      "16    0.057032\n",
      "17    0.059742\n",
      "dtype: float64\n"
     ]
    },
    {
     "data": {
      "image/png": "[encoded data removed]",
      "text/plain": [
       "<Figure size 432x288 with 1 Axes>"
      ]
     },
     "metadata": {
      "needs_background": "light"
     },
     "output_type": "display_data"
    }
   ],
   "source": [
    "decision_tree(X_train_scale,y_train)"
   ]
  },
  {
   "cell_type": "code",
   "execution_count": 57,
   "metadata": {},
   "outputs": [],
   "source": [
    "    # DecisionTree\n",
    "    X_dt_4 = dataset.iloc[:, [2, 8, 3, 7]]\n",
    "    y_dt_4 = dataset.iloc[:, 20]\n",
    "\n",
    "    X_dt_8 = dataset.iloc[:, [2, 8, 3, 7,6,4,5,9]]\n",
    "    y_dt_8 = dataset.iloc[:, 20]\n",
    "\n",
    "    X_dt_12 = dataset.iloc[:, [2, 8, 3, 7,6,4,5,9,17,16,10,11]]\n",
    "    y_dt_12 = dataset.iloc[:, 20]"
   ]
  },
  {
   "cell_type": "code",
   "execution_count": 58,
   "metadata": {},
   "outputs": [
    {
     "name": "stdout",
     "output_type": "stream",
     "text": [
      "Sve kolone>>>>>>>>>\n",
      "SCORE:\n",
      "[0.79166667 0.60869565 0.69565217 0.52173913 0.65217391 0.82608696\n",
      " 0.65217391 0.65217391 0.69565217 0.69565217]\n",
      "Average score:\n",
      "0.6791666666666667\n",
      "Confusion Matrix:\n",
      "[[95 25]\n",
      " [37 74]]\n"
     ]
    }
   ],
   "source": [
    "    print(\"Sve kolone>>>>>>>>>\")\n",
    "    logistic_regression(X_train_scale,y_train,X_test_scale,y_test)"
   ]
  },
  {
   "cell_type": "code",
   "execution_count": 59,
   "metadata": {},
   "outputs": [
    {
     "name": "stdout",
     "output_type": "stream",
     "text": [
      "Nasumicno izabrano 12 kolona>>>>>>\n",
      "SCORE:\n",
      "[0.83333333 0.73913043 0.73913043 0.60869565 0.43478261 0.7826087\n",
      " 0.60869565 0.7826087  0.52173913 0.7826087 ]\n",
      "Average score:\n",
      "0.6833333333333333\n",
      "Confusion Matrix:\n",
      "[[86 27]\n",
      " [39 79]]\n"
     ]
    }
   ],
   "source": [
    "    print(\"Nasumicno izabrano 12 kolona>>>>>>\")\n",
    "    process_data(X_random12,y_random12)\n",
    "   "
   ]
  },
  {
   "cell_type": "code",
   "execution_count": 60,
   "metadata": {},
   "outputs": [
    {
     "name": "stdout",
     "output_type": "stream",
     "text": [
      "Univariate Selection 12 kolona>>>>>>\n",
      "SCORE:\n",
      "[0.66666667 0.69565217 0.65217391 0.69565217 0.7826087  0.60869565\n",
      " 0.69565217 0.7826087  0.60869565 0.7826087 ]\n",
      "Average score:\n",
      "0.6971014492753623\n",
      "Confusion Matrix:\n",
      "[[97 20]\n",
      " [42 72]]\n"
     ]
    }
   ],
   "source": [
    "    print(\"Univariate Selection 12 kolona>>>>>>\")\n",
    "    process_data(X_unvariate_selection_12, y_unvariate_selection_12)"
   ]
  },
  {
   "cell_type": "code",
   "execution_count": 61,
   "metadata": {},
   "outputs": [
    {
     "name": "stdout",
     "output_type": "stream",
     "text": [
      "RFE 12 kolona>>>>>>\n",
      "SCORE:\n",
      "[0.66666667 0.52173913 0.69565217 0.7826087  0.69565217 0.7826087\n",
      " 0.73913043 0.65217391 0.47826087 0.69565217]\n",
      "Average score:\n",
      "0.6710144927536232\n",
      "Confusion Matrix:\n",
      "[[78 15]\n",
      " [51 87]]\n"
     ]
    }
   ],
   "source": [
    "    print(\"RFE 12 kolona>>>>>>\")\n",
    "    process_data(X_rfe_12,y_rfe_12)\n",
    "  "
   ]
  },
  {
   "cell_type": "code",
   "execution_count": 62,
   "metadata": {},
   "outputs": [
    {
     "name": "stdout",
     "output_type": "stream",
     "text": [
      "PCA 12 kolona>>>>>>\n",
      "SCORE:\n",
      "[0.66666667 0.60869565 0.69565217 0.65217391 0.7826087  0.60869565\n",
      " 0.82608696 0.47826087 0.60869565 0.56521739]\n",
      "Average score:\n",
      "0.6492753623188405\n",
      "Confusion Matrix:\n",
      "[[80 37]\n",
      " [37 77]]\n"
     ]
    }
   ],
   "source": [
    "    print(\"PCA 12 kolona>>>>>>\")\n",
    "    process_data(X_PCA_12,y_PCA_12)\n",
    "   "
   ]
  },
  {
   "cell_type": "code",
   "execution_count": 63,
   "metadata": {},
   "outputs": [
    {
     "name": "stdout",
     "output_type": "stream",
     "text": [
      "Decision tree 12 kolona>>>>>\n",
      "SCORE:\n",
      "[0.54166667 0.47826087 0.7826087  0.86956522 0.34782609 0.69565217\n",
      " 0.56521739 0.86956522 0.65217391 0.69565217]\n",
      "Average score:\n",
      "0.6498188405797102\n",
      "Confusion Matrix:\n",
      "[[88 21]\n",
      " [52 70]]\n"
     ]
    }
   ],
   "source": [
    "    print(\"Decision tree 12 kolona>>>>>\")\n",
    "    process_data(X_dt_12,y_dt_12)"
   ]
  },
  {
   "cell_type": "code",
   "execution_count": 64,
   "metadata": {},
   "outputs": [
    {
     "name": "stdout",
     "output_type": "stream",
     "text": [
      "Nasumicno izabrano 8 kolona>>>>>>\n",
      "SCORE:\n",
      "[0.29166667 0.82608696 0.47826087 0.86956522 0.52173913 0.7826087\n",
      " 0.65217391 0.65217391 0.65217391 0.69565217]\n",
      "Average score:\n",
      "0.6422101449275363\n",
      "Confusion Matrix:\n",
      "[[84 16]\n",
      " [55 76]]\n"
     ]
    }
   ],
   "source": [
    "    print(\"Nasumicno izabrano 8 kolona>>>>>>\")\n",
    "    process_data(X_random8, y_random8)\n",
    " "
   ]
  },
  {
   "cell_type": "code",
   "execution_count": 65,
   "metadata": {},
   "outputs": [
    {
     "name": "stdout",
     "output_type": "stream",
     "text": [
      "Univariate Selection 8 kolona>>>>>>\n",
      "SCORE:\n",
      "[0.95833333 0.56521739 0.65217391 0.65217391 0.65217391 0.73913043\n",
      " 0.69565217 0.69565217 0.73913043 0.47826087]\n",
      "Average score:\n",
      "0.6827898550724638\n",
      "Confusion Matrix:\n",
      "[[87 19]\n",
      " [46 79]]\n"
     ]
    }
   ],
   "source": [
    "    print(\"Univariate Selection 8 kolona>>>>>>\")\n",
    "    process_data(X_unvariate_selection_8, y_unvariate_selection_8)\n",
    "  "
   ]
  },
  {
   "cell_type": "code",
   "execution_count": 66,
   "metadata": {},
   "outputs": [
    {
     "name": "stdout",
     "output_type": "stream",
     "text": [
      "RFE 8 kolona>>>>>>\n",
      "SCORE:\n",
      "[0.58333333 0.86956522 0.73913043 0.7826087  0.86956522 0.65217391\n",
      " 0.73913043 0.60869565 0.65217391 0.60869565]\n",
      "Average score:\n",
      "0.7105072463768116\n",
      "Confusion Matrix:\n",
      "[[85 17]\n",
      " [43 86]]\n"
     ]
    }
   ],
   "source": [
    "    print(\"RFE 8 kolona>>>>>>\")\n",
    "    process_data(X_rfe_8, y_rfe_8)\n",
    " "
   ]
  },
  {
   "cell_type": "code",
   "execution_count": 67,
   "metadata": {},
   "outputs": [
    {
     "name": "stdout",
     "output_type": "stream",
     "text": [
      "PCA 8 kolona>>>>>>\n",
      "SCORE:\n",
      "[0.79166667 0.69565217 0.56521739 0.69565217 0.56521739 0.47826087\n",
      " 0.56521739 0.69565217 0.69565217 0.52173913]\n",
      "Average score:\n",
      "0.6269927536231884\n",
      "Confusion Matrix:\n",
      "[[63 49]\n",
      " [40 79]]\n"
     ]
    }
   ],
   "source": [
    "    print(\"PCA 8 kolona>>>>>>\")\n",
    "    process_data(X_PCA_8, y_PCA_8)\n",
    " "
   ]
  },
  {
   "cell_type": "code",
   "execution_count": 68,
   "metadata": {},
   "outputs": [
    {
     "name": "stdout",
     "output_type": "stream",
     "text": [
      "Decision tree 8 kolona>>>>>\n",
      "SCORE:\n",
      "[0.79166667 0.69565217 0.60869565 0.56521739 0.60869565 0.65217391\n",
      " 0.7826087  0.86956522 0.56521739 0.60869565]\n",
      "Average score:\n",
      "0.6748188405797102\n",
      "Confusion Matrix:\n",
      "[[92 28]\n",
      " [39 72]]\n"
     ]
    }
   ],
   "source": [
    "    print(\"Decision tree 8 kolona>>>>>\")\n",
    "    process_data(X_dt_8, y_dt_8)"
   ]
  },
  {
   "cell_type": "code",
   "execution_count": 69,
   "metadata": {},
   "outputs": [
    {
     "name": "stdout",
     "output_type": "stream",
     "text": [
      "Nasumicno izabrane 4 kolone>>>>>>\n",
      "SCORE:\n",
      "[0.54166667 0.65217391 0.60869565 0.52173913 0.73913043 0.56521739\n",
      " 0.56521739 0.69565217 0.69565217 0.69565217]\n",
      "Average score:\n",
      "0.6280797101449275\n",
      "Confusion Matrix:\n",
      "[[79 32]\n",
      " [48 72]]\n"
     ]
    }
   ],
   "source": [
    "    print(\"Nasumicno izabrane 4 kolone>>>>>>\")\n",
    "    process_data(X_random4, y_random4)\n",
    " "
   ]
  },
  {
   "cell_type": "code",
   "execution_count": 70,
   "metadata": {},
   "outputs": [
    {
     "name": "stdout",
     "output_type": "stream",
     "text": [
      "Univariate Selection 4 kolone>>>>>>\n",
      "SCORE:\n",
      "[0.66666667 0.52173913 0.73913043 0.73913043 0.73913043 0.60869565\n",
      " 0.52173913 0.7826087  0.65217391 0.82608696]\n",
      "Average score:\n",
      "0.6797101449275362\n",
      "Confusion Matrix:\n",
      "[[79 30]\n",
      " [44 78]]\n"
     ]
    }
   ],
   "source": [
    "    print(\"Univariate Selection 4 kolone>>>>>>\")\n",
    "    process_data(X_unvariate_selection_4, y_unvariate_selection_4)\n"
   ]
  },
  {
   "cell_type": "code",
   "execution_count": 71,
   "metadata": {},
   "outputs": [
    {
     "name": "stdout",
     "output_type": "stream",
     "text": [
      "RFE 4 kolone>>>>>>\n",
      "SCORE:\n",
      "[0.58333333 0.43478261 0.69565217 0.69565217 0.56521739 0.56521739\n",
      " 0.56521739 0.56521739 0.69565217 0.60869565]\n",
      "Average score:\n",
      "0.597463768115942\n",
      "Confusion Matrix:\n",
      "[[75 41]\n",
      " [43 72]]\n"
     ]
    }
   ],
   "source": [
    "    print(\"RFE 4 kolone>>>>>>\")\n",
    "    process_data(X_rfe_4, y_rfe_4)\n",
    " "
   ]
  },
  {
   "cell_type": "code",
   "execution_count": 72,
   "metadata": {},
   "outputs": [
    {
     "name": "stdout",
     "output_type": "stream",
     "text": [
      "PCA 4 kolone>>>>>>\n",
      "SCORE:\n",
      "[0.58333333 0.56521739 0.56521739 0.56521739 0.60869565 0.69565217\n",
      " 0.47826087 0.69565217 0.73913043 0.69565217]\n",
      "Average score:\n",
      "0.6192028985507246\n",
      "Confusion Matrix:\n",
      "[[62 52]\n",
      " [35 82]]\n"
     ]
    }
   ],
   "source": [
    "    print(\"PCA 4 kolone>>>>>>\")\n",
    "    process_data(X_PCA_4, y_PCA_4)"
   ]
  },
  {
   "cell_type": "code",
   "execution_count": 73,
   "metadata": {},
   "outputs": [
    {
     "name": "stdout",
     "output_type": "stream",
     "text": [
      "Decision tree 4 kolone>>>>>\n",
      "SCORE:\n",
      "[0.625      0.73913043 0.7826087  0.60869565 0.52173913 0.7826087\n",
      " 0.73913043 0.56521739 0.56521739 0.73913043]\n",
      "Average score:\n",
      "0.6668478260869565\n",
      "Confusion Matrix:\n",
      "[[82 37]\n",
      " [36 76]]\n"
     ]
    }
   ],
   "source": [
    "    print(\"Decision tree 4 kolone>>>>>\")\n",
    "    process_data(X_dt_4, y_dt_4)"
   ]
  },
  {
   "cell_type": "code",
   "execution_count": null,
   "metadata": {},
   "outputs": [],
   "source": []
  }
 ],
 "metadata": {
  "anaconda-cloud": {},
  "kernelspec": {
   "display_name": "Python 3",
   "language": "python",
   "name": "python3"
  },
  "language_info": {
   "codemirror_mode": {
    "name": "ipython",
    "version": 3
   },
   "file_extension": ".py",
   "mimetype": "text/x-python",
   "name": "python",
   "nbconvert_exporter": "python",
   "pygments_lexer": "ipython3",
   "version": "3.7.2"
  }
 },
 "nbformat": 4,
 "nbformat_minor": 1
}
